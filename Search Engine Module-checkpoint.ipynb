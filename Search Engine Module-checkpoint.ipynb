{
 "cells": [
  {
   "cell_type": "code",
   "execution_count": 1,
   "id": "1ec1c91f",
   "metadata": {},
   "outputs": [],
   "source": [
    "import pandas as pd\n",
    "import nltk\n",
    "from nltk.corpus import stopwords\n",
    "from nltk.tokenize import word_tokenize\n",
    "from nltk.stem import PorterStemmer\n",
    "from sklearn.feature_extraction.text import TfidfVectorizer\n",
    "from sklearn.metrics.pairwise import cosine_similarity"
   ]
  },
  {
   "cell_type": "code",
   "execution_count": 3,
   "id": "4ee540db",
   "metadata": {},
   "outputs": [],
   "source": [
    "df = pd.read_csv(\"stock_tweets.csv\")"
   ]
  },
  {
   "cell_type": "code",
   "execution_count": 5,
   "id": "8c2cf244",
   "metadata": {},
   "outputs": [],
   "source": [
    "stop_words = set(stopwords.words('english'))\n",
    "stemmer = PorterStemmer()\n",
    "def preprocess_text(text):\n",
    "    tokens = word_tokenize(text.lower())  # Tokenization\n",
    "    tokens = [stemmer.stem(token) for token in tokens if token.isalnum()]  # Stemming\n",
    "    tokens = [token for token in tokens if token not in stop_words]  # Removing stop words\n",
    "    return ' '.join(tokens)\n"
   ]
  },
  {
   "cell_type": "code",
   "execution_count": 6,
   "id": "a040dd79",
   "metadata": {},
   "outputs": [],
   "source": [
    "df['Processed Tweet'] = df['Tweet'].apply(preprocess_text)"
   ]
  },
  {
   "cell_type": "code",
   "execution_count": 7,
   "id": "a0b52194",
   "metadata": {},
   "outputs": [],
   "source": [
    "vectorizer = TfidfVectorizer()\n",
    "tfidf_matrix = vectorizer.fit_transform(df['Processed Tweet'])"
   ]
  },
  {
   "cell_type": "code",
   "execution_count": 8,
   "id": "98a738b7",
   "metadata": {},
   "outputs": [],
   "source": [
    "def search(query, top_n=5):\n",
    "    query_vector = vectorizer.transform([preprocess_text(query)])\n",
    "    cosine_similarities = cosine_similarity(query_vector, tfidf_matrix).flatten()\n",
    "    related_indices = cosine_similarities.argsort()[::-1][:top_n]\n",
    "    return df.iloc[related_indices]"
   ]
  },
  {
   "cell_type": "code",
   "execution_count": 9,
   "id": "8fbdabf3",
   "metadata": {},
   "outputs": [
    {
     "name": "stdout",
     "output_type": "stream",
     "text": [
      "                            Date  \\\n",
      "3417   2022-08-16 18:41:55+00:00   \n",
      "19222  2022-03-09 15:19:45+00:00   \n",
      "60047  2021-12-13 14:36:59+00:00   \n",
      "18288  2022-03-21 16:52:17+00:00   \n",
      "32993  2021-11-02 14:49:52+00:00   \n",
      "\n",
      "                                                   Tweet Stock Name  \\\n",
      "3417                      What is up with markets. $TSLA       TSLA   \n",
      "19222                  These markets are bi-polar. $TSLA       TSLA   \n",
      "60047      $AAPL is about to be the entire stock market.       AAPL   \n",
      "18288  I personally love it when $TSLA goes against t...       TSLA   \n",
      "32993  Why even bother having a stock market when it'...       TSLA   \n",
      "\n",
      "      Company Name  \n",
      "3417   Tesla, Inc.  \n",
      "19222  Tesla, Inc.  \n",
      "60047   Apple Inc.  \n",
      "18288  Tesla, Inc.  \n",
      "32993  Tesla, Inc.  \n"
     ]
    }
   ],
   "source": [
    "query = \"stock market\"\n",
    "search_results = search(query)\n",
    "print(search_results[['Date', 'Tweet', 'Stock Name', 'Company Name']])"
   ]
  },
  {
   "cell_type": "code",
   "execution_count": null,
   "id": "09fbd6a3",
   "metadata": {},
   "outputs": [],
   "source": []
  }
 ],
 "metadata": {
  "kernelspec": {
   "display_name": "Python 3 (ipykernel)",
   "language": "python",
   "name": "python3"
  },
  "language_info": {
   "codemirror_mode": {
    "name": "ipython",
    "version": 3
   },
   "file_extension": ".py",
   "mimetype": "text/x-python",
   "name": "python",
   "nbconvert_exporter": "python",
   "pygments_lexer": "ipython3",
   "version": "3.9.13"
  }
 },
 "nbformat": 4,
 "nbformat_minor": 5
}
