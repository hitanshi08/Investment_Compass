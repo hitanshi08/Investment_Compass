{
 "cells": [
  {
   "cell_type": "code",
   "execution_count": 12,
   "id": "2c43008e",
   "metadata": {},
   "outputs": [],
   "source": [
    "import pandas as pd\n",
    "from textblob import TextBlob"
   ]
  },
  {
   "cell_type": "code",
   "execution_count": 13,
   "id": "fc353931",
   "metadata": {},
   "outputs": [],
   "source": [
    "df = pd.read_csv(\"stock_tweets.csv\")"
   ]
  },
  {
   "cell_type": "code",
   "execution_count": 14,
   "id": "7fa907f5",
   "metadata": {},
   "outputs": [],
   "source": [
    "import re\n",
    "\n",
    "def clean_text(text):\n",
    "    \"\"\"\n",
    "    Function to clean text data by removing special characters, URLs, etc.\n",
    "    \"\"\"\n",
    "    # Remove URLs\n",
    "    text = re.sub(r'http\\S+', '', text)\n",
    "    \n",
    "    # Remove special characters and numbers\n",
    "    text = re.sub(r'[^a-zA-Z\\s]', '', text)\n",
    "    \n",
    "    # Convert to lowercase\n",
    "    text = text.lower()\n",
    "    \n",
    "    return text\n",
    "\n",
    "# Apply cleaning function to the 'Tweet' column\n",
    "df['Cleaned_Tweet'] = df['Tweet'].apply(clean_text)\n"
   ]
  },
  {
   "cell_type": "code",
   "execution_count": 15,
   "id": "0c9138be",
   "metadata": {},
   "outputs": [],
   "source": [
    "def analyze_sentiment(text):\n",
    "    \"\"\"\n",
    "    Function to analyze sentiment of a text using TextBlob.\n",
    "    Returns 'positive', 'negative', or 'neutral'.\n",
    "    \"\"\"\n",
    "    analysis = TextBlob(text)\n",
    "    if analysis.sentiment.polarity > 0:\n",
    "        return 'positive'\n",
    "    elif analysis.sentiment.polarity < 0:\n",
    "        return 'negative'\n",
    "    else:\n",
    "        return 'neutral'"
   ]
  },
  {
   "cell_type": "code",
   "execution_count": 16,
   "id": "0047531c",
   "metadata": {},
   "outputs": [],
   "source": [
    "df['Sentiment'] = df['Tweet'].apply(analyze_sentiment)"
   ]
  },
  {
   "cell_type": "code",
   "execution_count": 18,
   "id": "8b061bcf",
   "metadata": {},
   "outputs": [],
   "source": [
    "def analyze_stock_sentiment(Stock_name):\n",
    "   \n",
    "    # Group by stock name or company name\n",
    "    grouped = df.groupby(Stock_name)\n",
    "    \n",
    "    # Calculate sentiment distribution for each group\n",
    "    sentiment_distribution = grouped['Sentiment'].value_counts(normalize=True).unstack().fillna(0)\n",
    "    \n",
    "    return sentiment_distribution"
   ]
  },
  {
   "cell_type": "code",
   "execution_count": 19,
   "id": "aab9b933",
   "metadata": {},
   "outputs": [
    {
     "name": "stdout",
     "output_type": "stream",
     "text": [
      "Sentiment   negative   neutral  positive\n",
      "Stock Name                              \n",
      "AAPL        0.177809  0.371242  0.450949\n",
      "AMD         0.137854  0.308487  0.553660\n",
      "AMZN        0.188555  0.331377  0.480068\n",
      "BA          0.162907  0.421053  0.416040\n",
      "BX          0.120000  0.200000  0.680000\n",
      "COST        0.139949  0.351145  0.508906\n",
      "CRM         0.128755  0.373391  0.497854\n",
      "DIS         0.163780  0.415748  0.420472\n",
      "ENPH        0.138889  0.245370  0.615741\n",
      "F           0.129032  0.290323  0.580645\n",
      "GOOG        0.152595  0.324555  0.522851\n",
      "INTC        0.133333  0.365079  0.501587\n",
      "KO          0.103226  0.348387  0.548387\n",
      "META        0.211196  0.324609  0.464195\n",
      "MSFT        0.188555  0.331377  0.480068\n",
      "NFLX        0.211928  0.376954  0.411118\n",
      "NIO         0.118835  0.359484  0.521682\n",
      "NOC         0.129032  0.290323  0.580645\n",
      "PG          0.188555  0.331377  0.480068\n",
      "PYPL        0.172005  0.351127  0.476868\n",
      "TSLA        0.182914  0.315376  0.501710\n",
      "TSM         0.156063  0.387258  0.456679\n",
      "VZ          0.105691  0.284553  0.609756\n",
      "XPEV        0.124444  0.360000  0.515556\n",
      "ZS          0.155440  0.295337  0.549223\n"
     ]
    }
   ],
   "source": [
    "Stock_sentiment = analyze_stock_sentiment('Stock Name') \n",
    "print(Stock_sentiment)"
   ]
  },
  {
   "cell_type": "code",
   "execution_count": 20,
   "id": "2afebd50",
   "metadata": {},
   "outputs": [
    {
     "name": "stdout",
     "output_type": "stream",
     "text": [
      "Sentiment                                           negative   neutral  \\\n",
      "Company Name                                                             \n",
      "Advanced Micro Devices, Inc.                        0.137854  0.308487   \n",
      "Alphabet Inc.                                       0.152595  0.324555   \n",
      "Amazon.com, Inc.                                    0.188555  0.331377   \n",
      "Apple Inc.                                          0.177809  0.371242   \n",
      "Blackstone Inc.                                     0.120000  0.200000   \n",
      "Costco Wholesale Corporation                        0.139949  0.351145   \n",
      "Enphase Energy, Inc.                                0.138889  0.245370   \n",
      "Ford Motor Company                                  0.129032  0.290323   \n",
      "Intel Corporation                                   0.133333  0.365079   \n",
      "Meta Platforms, Inc.                                0.211196  0.324609   \n",
      "Microsoft Corporation                               0.188555  0.331377   \n",
      "NIO Inc.                                            0.118835  0.359484   \n",
      "Netflix, Inc.                                       0.211928  0.376954   \n",
      "Northrop Grumman Corporation                        0.129032  0.290323   \n",
      "PayPal Holdings, Inc.                               0.172005  0.351127   \n",
      "Procter & Gamble Company                            0.188555  0.331377   \n",
      "Salesforce, Inc.                                    0.128755  0.373391   \n",
      "Taiwan Semiconductor Manufacturing Company Limited  0.156063  0.387258   \n",
      "Tesla, Inc.                                         0.182914  0.315376   \n",
      "The Boeing Company                                  0.162907  0.421053   \n",
      "The Coca-Cola Company                               0.103226  0.348387   \n",
      "The Walt Disney Company                             0.163780  0.415748   \n",
      "Verizon Communications Inc.                         0.105691  0.284553   \n",
      "XPeng Inc.                                          0.124444  0.360000   \n",
      "Zscaler, Inc.                                       0.155440  0.295337   \n",
      "\n",
      "Sentiment                                           positive  \n",
      "Company Name                                                  \n",
      "Advanced Micro Devices, Inc.                        0.553660  \n",
      "Alphabet Inc.                                       0.522851  \n",
      "Amazon.com, Inc.                                    0.480068  \n",
      "Apple Inc.                                          0.450949  \n",
      "Blackstone Inc.                                     0.680000  \n",
      "Costco Wholesale Corporation                        0.508906  \n",
      "Enphase Energy, Inc.                                0.615741  \n",
      "Ford Motor Company                                  0.580645  \n",
      "Intel Corporation                                   0.501587  \n",
      "Meta Platforms, Inc.                                0.464195  \n",
      "Microsoft Corporation                               0.480068  \n",
      "NIO Inc.                                            0.521682  \n",
      "Netflix, Inc.                                       0.411118  \n",
      "Northrop Grumman Corporation                        0.580645  \n",
      "PayPal Holdings, Inc.                               0.476868  \n",
      "Procter & Gamble Company                            0.480068  \n",
      "Salesforce, Inc.                                    0.497854  \n",
      "Taiwan Semiconductor Manufacturing Company Limited  0.456679  \n",
      "Tesla, Inc.                                         0.501710  \n",
      "The Boeing Company                                  0.416040  \n",
      "The Coca-Cola Company                               0.548387  \n",
      "The Walt Disney Company                             0.420472  \n",
      "Verizon Communications Inc.                         0.609756  \n",
      "XPeng Inc.                                          0.515556  \n",
      "Zscaler, Inc.                                       0.549223  \n"
     ]
    }
   ],
   "source": [
    "company_sentiment = analyze_stock_sentiment('Company Name')  \n",
    "print(company_sentiment)"
   ]
  },
  {
   "cell_type": "code",
   "execution_count": null,
   "id": "2744fbf3",
   "metadata": {},
   "outputs": [],
   "source": []
  }
 ],
 "metadata": {
  "kernelspec": {
   "display_name": "Python 3 (ipykernel)",
   "language": "python",
   "name": "python3"
  },
  "language_info": {
   "codemirror_mode": {
    "name": "ipython",
    "version": 3
   },
   "file_extension": ".py",
   "mimetype": "text/x-python",
   "name": "python",
   "nbconvert_exporter": "python",
   "pygments_lexer": "ipython3",
   "version": "3.9.13"
  }
 },
 "nbformat": 4,
 "nbformat_minor": 5
}
